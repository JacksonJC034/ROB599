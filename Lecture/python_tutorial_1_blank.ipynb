{
 "cells": [
  {
   "cell_type": "markdown",
   "metadata": {},
   "source": [
    "# A Whirlwind Tutorial of the Key Concepts in Python You'll Need\n",
    "\n",
    "Behind the notes below is it introduced the key concepts that you will need to know prior to doing your homework assignments. If you have experience with python in the past, and the below should be relatively familiar. You may yet be surprised by some of the interesting behavior that python produces.\n",
    "\n",
    "Some of the imports we'll commonly be using:"
   ]
  },
  {
   "cell_type": "code",
   "execution_count": null,
   "metadata": {},
   "outputs": [],
   "source": [
    "import os\n",
    "# our main library for numerical computation\n",
    "import numpy as np\n",
    "# matplotlib will plot for us\n",
    "import matplotlib.pyplot as plt\n",
    "# inline plots with matplotlib:\n",
    "%matplotlib inline\n",
    "from timeit import timeit"
   ]
  },
  {
   "cell_type": "markdown",
   "metadata": {},
   "source": [
    "Defining variables and data types:"
   ]
  },
  {
   "cell_type": "code",
   "execution_count": null,
   "metadata": {},
   "outputs": [],
   "source": [
    "a = 2\n",
    "print(a)\n",
    "print(type(a))\n",
    "print(id(a))"
   ]
  },
  {
   "cell_type": "code",
   "execution_count": null,
   "metadata": {},
   "outputs": [],
   "source": [
    "b = 2.0\n",
    "print(b)\n",
    "print(type(b))\n",
    "print(id(b))"
   ]
  },
  {
   "cell_type": "code",
   "execution_count": null,
   "metadata": {},
   "outputs": [],
   "source": [
    "mylist = [1, 2, 3]\n",
    "print(mylist)\n",
    "print(type(mylist))\n",
    "print(id(mylist))"
   ]
  },
  {
   "cell_type": "code",
   "execution_count": null,
   "metadata": {},
   "outputs": [],
   "source": [
    "mystring = \"Hello World\"\n",
    "print(mystring)\n",
    "print(type(mystring))\n",
    "print(id(mystring))"
   ]
  },
  {
   "cell_type": "markdown",
   "metadata": {},
   "source": [
    "Mutability vs immutability in Python:"
   ]
  },
  {
   "cell_type": "code",
   "execution_count": null,
   "metadata": {},
   "outputs": [],
   "source": [
    "print(a)\n",
    "print(id(a))\n",
    "a = 3\n",
    "print(a)\n",
    "print(id(a))"
   ]
  },
  {
   "cell_type": "markdown",
   "metadata": {},
   "source": [
    "Note that the address that `a` points to has changed. (Explanation on iPad)."
   ]
  },
  {
   "cell_type": "code",
   "execution_count": null,
   "metadata": {},
   "outputs": [],
   "source": [
    "print(b)\n",
    "print(id(b))\n",
    "b = 3.0\n",
    "print(b)\n",
    "print(id(b))"
   ]
  },
  {
   "cell_type": "markdown",
   "metadata": {},
   "source": [
    "Many of the primitive data types in Python are immutable. Are strings mutable?"
   ]
  },
  {
   "cell_type": "code",
   "execution_count": null,
   "metadata": {},
   "outputs": [],
   "source": [
    "print(mystring)\n",
    "print(id(mystring))\n",
    "print(mystring[0])"
   ]
  },
  {
   "cell_type": "code",
   "execution_count": null,
   "metadata": {},
   "outputs": [],
   "source": [
    "# assignment to a string example case: "
   ]
  },
  {
   "cell_type": "markdown",
   "metadata": {},
   "source": [
    "This error occurs because the native string type is *not* mutable, there is no way to change the elements in place, you'll need to create a new string for that."
   ]
  },
  {
   "cell_type": "code",
   "execution_count": null,
   "metadata": {},
   "outputs": [],
   "source": [
    "print(mylist)\n",
    "print(id(mylist))\n",
    "mylist[0] = 5\n",
    "print(mylist)\n",
    "print(id(mylist))"
   ]
  },
  {
   "cell_type": "markdown",
   "metadata": {},
   "source": [
    "Lists, Dictionaries, and Sets are three important data types that are mutable. What's the difference between a List and a Set? \n",
    "\n",
    "It's important to understand what is mutable and what is immutable in python as it affects how we treat data we pass to our functions. You'll likely care a lot about this when we work with point clouds."
   ]
  },
  {
   "cell_type": "code",
   "execution_count": null,
   "metadata": {},
   "outputs": [],
   "source": [
    "def foo(a):\n",
    "    a = 3 * a\n",
    "    print(a)\n",
    "    print(id(a))\n",
    "    return a"
   ]
  },
  {
   "cell_type": "code",
   "execution_count": null,
   "metadata": {},
   "outputs": [],
   "source": [
    "a = 2\n",
    "print(a)\n",
    "print(id(a))\n",
    "print('---')\n",
    "a = foo(a)\n",
    "print('---')\n",
    "print(a)\n",
    "print(id(a))"
   ]
  },
  {
   "cell_type": "code",
   "execution_count": null,
   "metadata": {},
   "outputs": [],
   "source": [
    "def bar(list):\n",
    "    list[0] = 5\n",
    "    print(list)\n",
    "    print(id(list))\n",
    "    return list\n",
    "\n",
    "mylist = [1, 2, 3]\n",
    "print(mylist)\n",
    "print(id(mylist))\n",
    "print('---')\n",
    "mylist = bar(mylist)\n",
    "print('---')\n",
    "print(mylist)\n",
    "print(id(mylist))"
   ]
  },
  {
   "cell_type": "markdown",
   "metadata": {},
   "source": [
    "The above is important! If you have learned about 'scopes' before, you may be surprised by this behavior. Despite changing the lists value inside the scope of the function, the value also changed outside. This is a very important feature of mutable data types. If you're not careful, this may become a headache later on."
   ]
  },
  {
   "cell_type": "markdown",
   "metadata": {},
   "source": [
    "A common mistake we see is multiple assignments in a single line when a variable is mutable."
   ]
  },
  {
   "cell_type": "code",
   "execution_count": null,
   "metadata": {},
   "outputs": [],
   "source": [
    "c = d = [1, 2, 3]\n",
    "print(c)\n",
    "print(d)\n",
    "print(id(c))\n",
    "print(id(d))"
   ]
  },
  {
   "cell_type": "code",
   "execution_count": null,
   "metadata": {},
   "outputs": [],
   "source": [
    "d[0] = 3\n",
    "print(c)\n",
    "print(d)\n",
    "print(id(c))\n",
    "print(id(d))"
   ]
  },
  {
   "cell_type": "markdown",
   "metadata": {},
   "source": [
    "This does not happen with immutable variables."
   ]
  },
  {
   "cell_type": "code",
   "execution_count": null,
   "metadata": {},
   "outputs": [],
   "source": [
    "e = f = 2\n",
    "print(id(e))\n",
    "print(id(f))\n",
    "f = 3\n",
    "print(e)\n",
    "print(f)\n",
    "print(id(e))\n",
    "print(id(f))"
   ]
  },
  {
   "cell_type": "markdown",
   "metadata": {},
   "source": [
    "There are only 3 really important concepts up to this point you should really know:\n",
    "\n",
    "1- How to create variables (we'll mostly be working with scalars, vectors, and matrices -- you'll see soon)\n",
    "2- Understanding mutability vs immutability\n",
    "3- How to write functions\n",
    "\n",
    "Python is a very powerful `object oriented` programming language. In fact, everything in python is an Object. Don't believe me?"
   ]
  },
  {
   "cell_type": "code",
   "execution_count": null,
   "metadata": {},
   "outputs": [],
   "source": [
    "a = -2\n",
    "print(type(a))\n",
    "print(a.__abs__())\n",
    "print(abs(a))"
   ]
  },
  {
   "cell_type": "code",
   "execution_count": null,
   "metadata": {},
   "outputs": [],
   "source": [
    "def foo(a):\n",
    "    return a ** 2\n",
    "\n",
    "print(type(foo))"
   ]
  },
  {
   "cell_type": "markdown",
   "metadata": {},
   "source": [
    "In this class, we'll take care of the vast majority of the object-orientedness of the programs. You'll mostly be writing functions. Thus, you won't really need to mastery of OOP to perform well in the class. However, we very strongly encourage you to self-educate on OOP as a programming paradigm and the richness of OOP in Python."
   ]
  },
  {
   "cell_type": "markdown",
   "metadata": {},
   "source": [
    "# Numpy\n",
    "\n",
    "With the introductions out of the way, let's dive into the meat of todays lecture. Libraries that speed up linear algebra calculations are a staple if you work in fields like robotics, machine learning, data science, or deep learning.  NumPy, short for Numerical Python, is perhaps the most famous of the lot, and chances are you've already used it. It is important to understand that Numpy is optimized for CPU computation. Libraries such as Torch and Jax further accelerate linear algebra using GPUs and a very easy to learn if you have a solid foundation in numpy."
   ]
  },
  {
   "cell_type": "code",
   "execution_count": null,
   "metadata": {},
   "outputs": [],
   "source": [
    "# let's define a vector in numpy\n",
    "a = np.array([1., 2., 3.])\n",
    "print(a)\n",
    "print(type(a))\n",
    "print(a.shape) # this is the `dimensions` of the array\n",
    "print(a.dtype) # this is the type of the array"
   ]
  },
  {
   "cell_type": "markdown",
   "metadata": {},
   "source": [
    "Note the size of the vector. Any 1D array can be represented as (N, ) and has the flexibility to be treat as a column or row vector depending on the context. If you need a specific shape, you can fix this by doing the following:"
   ]
  },
  {
   "cell_type": "code",
   "execution_count": null,
   "metadata": {},
   "outputs": [],
   "source": [
    "col_vec = a[:, np.newaxis]\n",
    "row_vec = a[np.newaxis, :]\n",
    "print(col_vec.shape)\n",
    "print(row_vec.shape)"
   ]
  },
  {
   "cell_type": "markdown",
   "metadata": {},
   "source": [
    "You can also achieve the same effect by doing:"
   ]
  },
  {
   "cell_type": "code",
   "execution_count": null,
   "metadata": {},
   "outputs": [],
   "source": [
    "col_vec2 = a.reshape((3, 1))\n",
    "print(col_vec2.shape)"
   ]
  },
  {
   "cell_type": "markdown",
   "metadata": {},
   "source": [
    "Now that we know how to define vectors, let's take a look at matrices:"
   ]
  },
  {
   "cell_type": "code",
   "execution_count": null,
   "metadata": {},
   "outputs": [],
   "source": [
    "mata = np.array([[1., 2., 3.], [4., 5., 6.]])\n",
    "print(mata.shape)\n",
    "\n",
    "a = np.array([1., 2., 3.])\n",
    "print(a.shape)"
   ]
  },
  {
   "cell_type": "markdown",
   "metadata": {},
   "source": [
    "Now let's take a look at matrix multiplication:"
   ]
  },
  {
   "cell_type": "code",
   "execution_count": null,
   "metadata": {},
   "outputs": [],
   "source": [
    "prod = mata.dot(a)\n",
    "print(prod)\n",
    "print(prod.shape)\n",
    "\n",
    "prod2 = mata @ a\n",
    "print(prod2)\n",
    "print(prod2.shape)"
   ]
  },
  {
   "cell_type": "markdown",
   "metadata": {},
   "source": [
    "Note how numpy figured out to treat `a` as a column vector for the multiplication. This is due to *broadcasting* rules that we'll get into shortly.\n",
    "\n",
    "The `@` operator is a matrix multiplication when there is a matrix involved; however, it also does dot (inner) products. This is the default behavior when `@` is used between two vectors:"
   ]
  },
  {
   "cell_type": "code",
   "execution_count": null,
   "metadata": {},
   "outputs": [],
   "source": [
    "a = np.array([1., 2., 3.])\n",
    "b = np.array([1., 2., 3.])\n",
    "\n",
    "print(a @ b)"
   ]
  },
  {
   "cell_type": "markdown",
   "metadata": {},
   "source": [
    "So far, you've learned how to manually define vectors and matrices. We can also use a few handy tools to help us define some of the more common vectors and matrices:"
   ]
  },
  {
   "cell_type": "code",
   "execution_count": null,
   "metadata": {},
   "outputs": [],
   "source": [
    "print(np.linspace(0, 10, 11))\n",
    "print(np.eye(3))\n",
    "print(np.zeros((3, 3)))\n",
    "print(np.ones((3, 3)))"
   ]
  },
  {
   "cell_type": "markdown",
   "metadata": {},
   "source": [
    "## Vectorization in Numpy\n",
    "\n",
    "Now that you've learned the basics of matrix algebra, let's talk about some of the advantages of using numpy of vanilla python. First item is vectorization. \n",
    "\n",
    "Vectorization is a powerful ability within NumPy to express operations as occurring on entire arrays rather than their individual elements. When looping over an array or any data structure in Python, there’s a lot of overhead involved. Vectorized operations in NumPy delegate the looping internally to highly optimized C and Fortran functions, making for cleaner and faster Python code.\n",
    "\n",
    "Let's see a simple example:"
   ]
  },
  {
   "cell_type": "markdown",
   "metadata": {},
   "source": [
    "Write a function that takes in a 1-dimensional vector of True or False values and returns the number of False to True transitions:"
   ]
  },
  {
   "cell_type": "code",
   "execution_count": null,
   "metadata": {},
   "outputs": [],
   "source": [
    "# Brute force for loop method:\n",
    "# Count the number of transitions from False to True in a boolean array using a for loop\n"
   ]
  },
  {
   "cell_type": "code",
   "execution_count": null,
   "metadata": {},
   "outputs": [],
   "source": [
    "# More efficient methods:\n",
    "\n",
    "# approach 1:\n",
    "\n",
    "# approach 2:\n",
    "\n",
    "# approach 3:"
   ]
  },
  {
   "cell_type": "markdown",
   "metadata": {},
   "source": [
    "All our methods give the same answer, but how fast are they?"
   ]
  },
  {
   "cell_type": "code",
   "execution_count": null,
   "metadata": {},
   "outputs": [],
   "source": [
    "# benchmarking the three methods:"
   ]
  },
  {
   "cell_type": "markdown",
   "metadata": {},
   "source": [
    "This should tell you that whenever you can, you should avoid using for loops and instead focus on vectorization. In addition to the in-built functionalities of numpy, we can also vectorize entire functions. Here is an example:"
   ]
  },
  {
   "cell_type": "code",
   "execution_count": null,
   "metadata": {},
   "outputs": [],
   "source": [
    "# example of vectorizing a function using numpy\n",
    "def f(x):\n",
    "    if x < 0:\n",
    "        return 0\n",
    "    else:\n",
    "        return x\n",
    "\n",
    "f_vec = np.vectorize(f)\n",
    "\n",
    "# try your own functions\n",
    "\n",
    "# benchmark the three methods\n"
   ]
  },
  {
   "cell_type": "markdown",
   "metadata": {},
   "source": [
    "This example shows you how well-implemented vectorization can easily surpass naive approaches."
   ]
  },
  {
   "cell_type": "markdown",
   "metadata": {},
   "source": [
    "## Broadcasting as a Form of Vectorization\n",
    "\n",
    "Broadcasting is a powerful form of vectorization that you should master for effective use of Numpy. So what is broadcasting? First an example:"
   ]
  },
  {
   "cell_type": "code",
   "execution_count": null,
   "metadata": {},
   "outputs": [],
   "source": [
    "a = np.array([1., 2., 3.])\n",
    "b = np.array([1])\n",
    "\n",
    "print(a * b)"
   ]
  },
  {
   "cell_type": "markdown",
   "metadata": {},
   "source": [
    "What do you expect the output of the summation to be?"
   ]
  },
  {
   "cell_type": "code",
   "execution_count": null,
   "metadata": {},
   "outputs": [],
   "source": [
    "print(a + b)"
   ]
  },
  {
   "cell_type": "code",
   "execution_count": null,
   "metadata": {},
   "outputs": [],
   "source": [
    "c = np.array([[1., 2., 3.], [4., 5., 6.]])\n",
    "d = np.array([[1], [2]])\n",
    "\n",
    "print(c.shape)\n",
    "print(d.shape)"
   ]
  },
  {
   "cell_type": "markdown",
   "metadata": {},
   "source": [
    "What are the expected behaviors for summation and multiplication?"
   ]
  },
  {
   "cell_type": "code",
   "execution_count": null,
   "metadata": {},
   "outputs": [],
   "source": [
    "print(c * d)\n",
    "print(c + d)"
   ]
  },
  {
   "cell_type": "markdown",
   "metadata": {},
   "source": [
    "Broadcasting allows numpy to infer and extend arrays to match sizes and produce desired outputs without the need for additional specification or usage of for loops from us. There are rules/constraints that arrays have to meet for broadcasting to apply. Please review the documentation.\n",
    "\n",
    "Broadcasting in action: Return the index of the closest point (in Euclidean distance) of the array `a` given a query point 'b':"
   ]
  },
  {
   "cell_type": "code",
   "execution_count": null,
   "metadata": {},
   "outputs": [],
   "source": [
    "x = np.array([1., 2., 3.])\n",
    "y = np.random.rand(10000, 3)\n"
   ]
  },
  {
   "cell_type": "code",
   "execution_count": null,
   "metadata": {},
   "outputs": [],
   "source": [
    "# naive approach, write a for loop to compute the distance given a vector and an array of vectors\n",
    "def distance(x, y):\n",
    "    dist = np.zeros(y.shape[0])\n",
    "    for i in range(y.shape[0]):\n",
    "        dist[i] = np.sqrt(np.sum((x - y[i, :]) ** 2))\n",
    "    return dist\n",
    "\n",
    "t1 = timeit('np.argmin(distance(x, y))', number=num, globals=globals())\n",
    "\n",
    "# now lets use broadcasting to do the same thing\n",
    "t2 = timeit('np.argmin(np.sqrt(np.sum((x - y) ** 2, axis=1)))', number=num, globals=globals())\n",
    "\n",
    "# now lets use einsum to do the same thing\n",
    "t3 = timeit('np.argmin(np.sqrt(np.einsum(\"ij,ij->i\", x - y, x - y)))', number=num, globals=globals())\n",
    "\n",
    "print('Speed difference: for loop vs broadcasting: {:.1f}x'.format(t1 / t2))\n",
    "print('Speed difference: for loop vs einsum: {:.1f}x'.format(t1 / t3))"
   ]
  },
  {
   "cell_type": "markdown",
   "metadata": {},
   "source": [
    "Let's try a bit of image manipulation: I want to convert an RGB image into a grayscale image without any for loops:"
   ]
  },
  {
   "cell_type": "code",
   "execution_count": null,
   "metadata": {},
   "outputs": [],
   "source": [
    "from PIL import Image\n",
    "gray_weights = np.array([0.2125, 0.7154, 0.0721])\n",
    "\n",
    "image_pil = Image.open('mich_logo.jpg')\n",
    "image_pil.show()\n",
    "\n",
    "image_np = np.array(image_pil)\n",
    "print(image_np.shape)\n",
    "\n",
    "# numpy with broadcasting\n",
    "image_gs_mean = image_np @ gray_weights\n",
    "\n",
    "# numpy einsum\n",
    "image_gs_ein = np.einsum('ijk,k->ij', image_np, gray_weights)\n",
    "\n",
    "image_pil_gs_mean = Image.fromarray(image_gs_mean)\n",
    "image_pil_gs_ein = Image.fromarray(image_gs_ein)\n",
    "\n",
    "image_pil_gs_mean.show()\n",
    "image_pil_gs_ein.show()\n"
   ]
  },
  {
   "cell_type": "code",
   "execution_count": null,
   "metadata": {},
   "outputs": [],
   "source": []
  }
 ],
 "metadata": {
  "kernelspec": {
   "display_name": "virtualenv",
   "language": "python",
   "name": "python3"
  },
  "language_info": {
   "codemirror_mode": {
    "name": "ipython",
    "version": 3
   },
   "file_extension": ".py",
   "mimetype": "text/x-python",
   "name": "python",
   "nbconvert_exporter": "python",
   "pygments_lexer": "ipython3",
   "version": "3.9.13"
  },
  "orig_nbformat": 4
 },
 "nbformat": 4,
 "nbformat_minor": 2
}
